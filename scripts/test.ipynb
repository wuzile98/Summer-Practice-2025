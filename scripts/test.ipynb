{
 "cells": [
  {
   "cell_type": "markdown",
   "id": "12c9f630",
   "metadata": {},
   "source": [
    "现在我有一个这样的任务，需要你帮我完成相应的python脚本：\n",
    "1. 现在我是用insta 360全景相机录制了 .insv 的全景视频, 随着这个视频，还有.gpx的文件存储下来，用来记录视频拍摄时的相关经纬度以及位置信息。\n",
    "2. 我使用insta 360 studio吧这个 .insv 的全景时评导出成了 h.265编码的 .mp4 文件。\n",
    "3. 这个 .gpx 的文件，里面的数据如下：(截取部分)：\n",
    "```\n",
    "<?xml version=\"1.0\" encoding=\"UTF-8\"?>\n",
    "<gpx version=\"1.1\" xmlns=\"http://www.topografix.com/GPX/1/1\" creator=\"Insta360 Studio\">\n",
    "  <metadata>\n",
    "    <link href=\"https://www.insta360.com\">\n",
    "      <text>Insta360 GPS Dashboard</text>\n",
    "    </link>\n",
    "    <time>2025-08-05T01:54:21Z</time>\n",
    "    <bounds maxlat=\"31.288274999999999\" minlon=\"121.50088827054097\" minlat=\"31.286764761384138\" maxlon=\"121.50305169517915\"/>\n",
    "  </metadata>\n",
    "  <trk>\n",
    "    <name>Insta360 GPS Data</name>\n",
    "    <trkseg>\n",
    "      <trkpt lat=\"31.288274999999999\" lon=\"121.50127833333333\">\n",
    "        <ele>32.7</ele>\n",
    "        <time>2025-08-04T09:37:39Z</time>\n",
    "      </trkpt>\n",
    "      <trkpt lat=\"31.288274999375016\" lon=\"121.50127833245836\">\n",
    "        <ele>32.7</ele>\n",
    "        <time>2025-08-04T09:37:41Z</time>\n",
    "      </trkpt>\n",
    "      <trkpt lat=\"31.288274985842619\" lon=\"121.5012782899029\">\n",
    "        <ele>32.7001</ele>\n",
    "        <time>2025-08-04T09:37:42Z</time>\n",
    "      </trkpt>\n",
    "      <!-- ... 这里有很多相似的经纬度文件，省略 -->\n",
    "    </trkseg>\n",
    "  </trk>\n",
    "</gpx>\n",
    "4. 现在，我想根据这个 .gpx文件中的相关信息，把对应每个时间戳下的对应帧提取为图片，并且把相关的经纬度信息添加到对应图片的原始信息内（我后续需要把他导入到metashape中）\n",
    "\n",
    "我已经在我的pc中安装了ffmpeg，请综合上面的信息，帮我完成python脚本。\n"
   ]
  },
  {
   "cell_type": "markdown",
   "id": "7b0a3104",
   "metadata": {},
   "source": []
  },
  {
   "cell_type": "code",
   "execution_count": null,
   "id": "9849aa44",
   "metadata": {
    "vscode": {
     "languageId": "plaintext"
    }
   },
   "outputs": [],
   "source": []
  }
 ],
 "metadata": {
  "language_info": {
   "name": "python"
  }
 },
 "nbformat": 4,
 "nbformat_minor": 5
}
